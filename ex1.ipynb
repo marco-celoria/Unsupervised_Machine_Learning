{
 "cells": [
  {
   "cell_type": "code",
   "execution_count": 1,
   "id": "0e5d51db",
   "metadata": {},
   "outputs": [],
   "source": [
    "import pandas as pd\n",
    "import numpy as np\n",
    "import matplotlib.pyplot as plt\n",
    "import seaborn as sb\n",
    "from scipy.spatial.distance import hamming\n",
    "from scipy.spatial.distance import cdist \n",
    "%matplotlib inline"
   ]
  },
  {
   "cell_type": "markdown",
   "id": "864a5df6",
   "metadata": {},
   "source": [
    "# 1) VARIABLE RANKING BY LINEAR CORRELATION COEFFICIENT\n",
    "\n",
    "Rank the importance of the variables for classifying the species according with their linear correlation coefficient."
   ]
  },
  {
   "cell_type": "code",
   "execution_count": 2,
   "id": "d65da4b2",
   "metadata": {},
   "outputs": [],
   "source": [
    "leaf_file=\"data/leaf/leaf.csv\"\n",
    "leaf_points = np.loadtxt(leaf_file,delimiter=',') "
   ]
  },
  {
   "cell_type": "code",
   "execution_count": 3,
   "id": "64852359",
   "metadata": {},
   "outputs": [],
   "source": [
    "def Linear_Correlation_coefficient(data_points):\n",
    "    r = list()\n",
    "    N_features = np.shape(data_points)[1]\n",
    "    N_points = np.shape(data_points)[0]\n",
    "    Num=np.zeros((N_features))\n",
    "    D1=np.zeros(N_features)\n",
    "    D2=np.zeros(N_features)\n",
    "    y_mean=data_points[:,0].mean()\n",
    "    for i in range(N_features-1):\n",
    "        x_mean=data_points[:,i+1].mean()\n",
    "        Num[i]=((data_points[:,i+1] - x_mean)*(data_points[:,0]-y_mean)).sum()\n",
    "        D1[i] = ((data_points[:,i+1] - x_mean)*(data_points[:,i+1] - x_mean)).sum()\n",
    "        D2[i] = ((data_points[:,0]-y_mean)*(data_points[:,0]-y_mean) ).sum()\n",
    "        r.append(Num[i]/np.sqrt(D1[i]*D2[i]))\n",
    "    return r   \n"
   ]
  },
  {
   "cell_type": "code",
   "execution_count": 4,
   "id": "a6059ec0",
   "metadata": {},
   "outputs": [
    {
     "name": "stdout",
     "output_type": "stream",
     "text": [
      "-0.01514201654732639 \t -0.015142016547326375\n",
      "0.09141460302089632 \t 0.09141460302089631\n",
      "0.27521011784907834 \t 0.27521011784907823\n",
      "0.1412752472957704 \t 0.14127524729577032\n",
      "0.11184290470599254 \t 0.11184290470599254\n",
      "0.046678319203711044 \t 0.04667831920371114\n",
      "-0.04976661317047232 \t -0.04976661317047221\n",
      "-0.040025582355131525 \t -0.040025582355131525\n",
      "-0.017048050594139587 \t -0.017048050594139542\n",
      "0.1024532189647898 \t 0.10245321896478968\n",
      "0.07624645270769873 \t 0.0762464527076986\n",
      "0.0948852053530928 \t 0.09488520535309275\n",
      "0.05852012269141437 \t 0.058520122691414336\n",
      "0.18771684999019725 \t 0.18771684999019717\n",
      "0.01769003965398187 \t 0.01769003965398189\n"
     ]
    }
   ],
   "source": [
    "var=[\"Specimen_Number\",\"Eccentricity\",  \"Aspect_Ratio\",\"Elongation\",\n",
    "                         \"Solidity\",\"Stochastic_Convexity\", \"Isoperimetric_Factor\",\n",
    "                         \"Maximal_Indentation_Depth\",\"Lobedness\",\"Average_Intensity\",\n",
    "                         \"Average_Contrast\",\"Smoothness\",\"Third_moment\",\"Uniformity\",\n",
    "                         \"Entropy\"]\n",
    "res=Linear_Correlation_coefficient(leaf_points)\n",
    "for i in range(0,15):\n",
    "    print(res[i],\"\\t\",np.corrcoef(leaf_points[:,0],leaf_points[:,i+1])[0,1])\n"
   ]
  },
  {
   "cell_type": "code",
   "execution_count": 5,
   "id": "3ea5d712",
   "metadata": {},
   "outputs": [
    {
     "data": {
      "text/html": [
       "<div>\n",
       "<style scoped>\n",
       "    .dataframe tbody tr th:only-of-type {\n",
       "        vertical-align: middle;\n",
       "    }\n",
       "\n",
       "    .dataframe tbody tr th {\n",
       "        vertical-align: top;\n",
       "    }\n",
       "\n",
       "    .dataframe thead th {\n",
       "        text-align: right;\n",
       "    }\n",
       "</style>\n",
       "<table border=\"1\" class=\"dataframe\">\n",
       "  <thead>\n",
       "    <tr style=\"text-align: right;\">\n",
       "      <th></th>\n",
       "      <th>Variable</th>\n",
       "      <th>Linear_correlation_coefficient</th>\n",
       "    </tr>\n",
       "  </thead>\n",
       "  <tbody>\n",
       "    <tr>\n",
       "      <th>0</th>\n",
       "      <td>Aspect_Ratio</td>\n",
       "      <td>0.275210</td>\n",
       "    </tr>\n",
       "    <tr>\n",
       "      <th>1</th>\n",
       "      <td>Uniformity</td>\n",
       "      <td>0.187717</td>\n",
       "    </tr>\n",
       "    <tr>\n",
       "      <th>2</th>\n",
       "      <td>Elongation</td>\n",
       "      <td>0.141275</td>\n",
       "    </tr>\n",
       "    <tr>\n",
       "      <th>3</th>\n",
       "      <td>Solidity</td>\n",
       "      <td>0.111843</td>\n",
       "    </tr>\n",
       "    <tr>\n",
       "      <th>4</th>\n",
       "      <td>Average_Intensity</td>\n",
       "      <td>0.102453</td>\n",
       "    </tr>\n",
       "    <tr>\n",
       "      <th>5</th>\n",
       "      <td>Smoothness</td>\n",
       "      <td>0.094885</td>\n",
       "    </tr>\n",
       "    <tr>\n",
       "      <th>6</th>\n",
       "      <td>Eccentricity</td>\n",
       "      <td>0.091415</td>\n",
       "    </tr>\n",
       "    <tr>\n",
       "      <th>7</th>\n",
       "      <td>Average_Contrast</td>\n",
       "      <td>0.076246</td>\n",
       "    </tr>\n",
       "    <tr>\n",
       "      <th>8</th>\n",
       "      <td>Third_moment</td>\n",
       "      <td>0.058520</td>\n",
       "    </tr>\n",
       "    <tr>\n",
       "      <th>9</th>\n",
       "      <td>Stochastic_Convexity</td>\n",
       "      <td>0.046678</td>\n",
       "    </tr>\n",
       "    <tr>\n",
       "      <th>10</th>\n",
       "      <td>Entropy</td>\n",
       "      <td>0.017690</td>\n",
       "    </tr>\n",
       "    <tr>\n",
       "      <th>11</th>\n",
       "      <td>Specimen_Number</td>\n",
       "      <td>-0.015142</td>\n",
       "    </tr>\n",
       "    <tr>\n",
       "      <th>12</th>\n",
       "      <td>Lobedness</td>\n",
       "      <td>-0.017048</td>\n",
       "    </tr>\n",
       "    <tr>\n",
       "      <th>13</th>\n",
       "      <td>Maximal_Indentation_Depth</td>\n",
       "      <td>-0.040026</td>\n",
       "    </tr>\n",
       "    <tr>\n",
       "      <th>14</th>\n",
       "      <td>Isoperimetric_Factor</td>\n",
       "      <td>-0.049767</td>\n",
       "    </tr>\n",
       "  </tbody>\n",
       "</table>\n",
       "</div>"
      ],
      "text/plain": [
       "                     Variable  Linear_correlation_coefficient\n",
       "0                Aspect_Ratio                        0.275210\n",
       "1                  Uniformity                        0.187717\n",
       "2                  Elongation                        0.141275\n",
       "3                    Solidity                        0.111843\n",
       "4           Average_Intensity                        0.102453\n",
       "5                  Smoothness                        0.094885\n",
       "6                Eccentricity                        0.091415\n",
       "7            Average_Contrast                        0.076246\n",
       "8                Third_moment                        0.058520\n",
       "9        Stochastic_Convexity                        0.046678\n",
       "10                    Entropy                        0.017690\n",
       "11            Specimen_Number                       -0.015142\n",
       "12                  Lobedness                       -0.017048\n",
       "13  Maximal_Indentation_Depth                       -0.040026\n",
       "14       Isoperimetric_Factor                       -0.049767"
      ]
     },
     "execution_count": 5,
     "metadata": {},
     "output_type": "execute_result"
    }
   ],
   "source": [
    "dataset = pd.DataFrame({'Variable': var, 'Linear_correlation_coefficient': res})\n",
    "dataset=dataset.sort_values(by=\"Linear_correlation_coefficient\",ascending=False)\n",
    "dataset.reset_index(drop=True)"
   ]
  },
  {
   "cell_type": "markdown",
   "id": "7c6a0936",
   "metadata": {},
   "source": [
    "# 2) VARIABLE RANKING BY MUTUAL INFORMATION\n",
    "\n",
    "Rank the importance of the variables for classifying the party of vote according with the mutual information criteria.\n"
   ]
  },
  {
   "cell_type": "code",
   "execution_count": 6,
   "id": "475f0621",
   "metadata": {},
   "outputs": [],
   "source": [
    "voting_file=\"data/house-votes-84.data\"\n",
    "voting_cols_name = [\"Class_Name\",\"handicapped_infants\",\"water_project_cost_sharing\",\\\n",
    "                    \"adoption_of_the_budget_resolution\",\"physician_fee_freeze\",\"el_salvador_aid\",\\\n",
    "                    \"religious_groups_in_schools\",\"anti_satellite_test_ban\",\"aid_to_nicaraguan_contras\",\\\n",
    "                    \"mx_missile\",\"immigration\",\"synfuels_corporation_cutback\",\"education_spending\",\\\n",
    "                    \"superfund_right_to_sue\", \"crime\",\"duty_free_exports\", \"export_administration_act_south_africa\"]\n",
    "voting_cols = [\"0\",\"1\",\"2\",\"3\",\"4\",\"5\",\"6\",\"7\",\"8\",\"9\",\"10\",\"11\",\"12\", \"13\", \"14\",\"15\", \"16\"]\n",
    "voting_df = pd.read_csv(voting_file, names=voting_cols_name)# NULL values\n"
   ]
  },
  {
   "cell_type": "code",
   "execution_count": 7,
   "id": "900c51b4",
   "metadata": {},
   "outputs": [],
   "source": [
    "def vote_no(series):\n",
    "    return (series==\"n\").sum()\n",
    "\n",
    "def vote_yes(series):\n",
    "    return (series==\"y\").sum()\n",
    "\n",
    "def vote_dont_know(series):\n",
    "    return (series==\"?\").sum()\n"
   ]
  },
  {
   "cell_type": "code",
   "execution_count": 8,
   "id": "6e007356",
   "metadata": {},
   "outputs": [
    {
     "data": {
      "text/html": [
       "<div>\n",
       "<style scoped>\n",
       "    .dataframe tbody tr th:only-of-type {\n",
       "        vertical-align: middle;\n",
       "    }\n",
       "\n",
       "    .dataframe tbody tr th {\n",
       "        vertical-align: top;\n",
       "    }\n",
       "\n",
       "    .dataframe thead th {\n",
       "        text-align: right;\n",
       "    }\n",
       "</style>\n",
       "<table border=\"1\" class=\"dataframe\">\n",
       "  <thead>\n",
       "    <tr style=\"text-align: right;\">\n",
       "      <th></th>\n",
       "      <th>Variable</th>\n",
       "      <th>Mutual_information</th>\n",
       "    </tr>\n",
       "  </thead>\n",
       "  <tbody>\n",
       "    <tr>\n",
       "      <th>0</th>\n",
       "      <td>physician_fee_freeze</td>\n",
       "      <td>0.512952</td>\n",
       "    </tr>\n",
       "    <tr>\n",
       "      <th>1</th>\n",
       "      <td>adoption_of_the_budget_resolution</td>\n",
       "      <td>0.299661</td>\n",
       "    </tr>\n",
       "    <tr>\n",
       "      <th>2</th>\n",
       "      <td>el_salvador_aid</td>\n",
       "      <td>0.292820</td>\n",
       "    </tr>\n",
       "    <tr>\n",
       "      <th>3</th>\n",
       "      <td>education_spending</td>\n",
       "      <td>0.259411</td>\n",
       "    </tr>\n",
       "    <tr>\n",
       "      <th>4</th>\n",
       "      <td>aid_to_nicaraguan_contras</td>\n",
       "      <td>0.235826</td>\n",
       "    </tr>\n",
       "    <tr>\n",
       "      <th>5</th>\n",
       "      <td>crime</td>\n",
       "      <td>0.232401</td>\n",
       "    </tr>\n",
       "    <tr>\n",
       "      <th>6</th>\n",
       "      <td>mx_missile</td>\n",
       "      <td>0.215262</td>\n",
       "    </tr>\n",
       "    <tr>\n",
       "      <th>7</th>\n",
       "      <td>superfund_right_to_sue</td>\n",
       "      <td>0.157900</td>\n",
       "    </tr>\n",
       "    <tr>\n",
       "      <th>8</th>\n",
       "      <td>duty_free_exports</td>\n",
       "      <td>0.152771</td>\n",
       "    </tr>\n",
       "    <tr>\n",
       "      <th>9</th>\n",
       "      <td>anti_satellite_test_ban</td>\n",
       "      <td>0.137024</td>\n",
       "    </tr>\n",
       "    <tr>\n",
       "      <th>10</th>\n",
       "      <td>religious_groups_in_schools</td>\n",
       "      <td>0.102055</td>\n",
       "    </tr>\n",
       "    <tr>\n",
       "      <th>11</th>\n",
       "      <td>handicapped_infants</td>\n",
       "      <td>0.087387</td>\n",
       "    </tr>\n",
       "    <tr>\n",
       "      <th>12</th>\n",
       "      <td>synfuels_corporation_cutback</td>\n",
       "      <td>0.074369</td>\n",
       "    </tr>\n",
       "    <tr>\n",
       "      <th>13</th>\n",
       "      <td>export_administration_act_south_africa</td>\n",
       "      <td>0.070687</td>\n",
       "    </tr>\n",
       "    <tr>\n",
       "      <th>14</th>\n",
       "      <td>immigration</td>\n",
       "      <td>0.003522</td>\n",
       "    </tr>\n",
       "    <tr>\n",
       "      <th>15</th>\n",
       "      <td>water_project_cost_sharing</td>\n",
       "      <td>0.000250</td>\n",
       "    </tr>\n",
       "  </tbody>\n",
       "</table>\n",
       "</div>"
      ],
      "text/plain": [
       "                                  Variable  Mutual_information\n",
       "0                     physician_fee_freeze            0.512952\n",
       "1        adoption_of_the_budget_resolution            0.299661\n",
       "2                          el_salvador_aid            0.292820\n",
       "3                       education_spending            0.259411\n",
       "4                aid_to_nicaraguan_contras            0.235826\n",
       "5                                    crime            0.232401\n",
       "6                               mx_missile            0.215262\n",
       "7                   superfund_right_to_sue            0.157900\n",
       "8                        duty_free_exports            0.152771\n",
       "9                  anti_satellite_test_ban            0.137024\n",
       "10             religious_groups_in_schools            0.102055\n",
       "11                     handicapped_infants            0.087387\n",
       "12            synfuels_corporation_cutback            0.074369\n",
       "13  export_administration_act_south_africa            0.070687\n",
       "14                             immigration            0.003522\n",
       "15              water_project_cost_sharing            0.000250"
      ]
     },
     "execution_count": 8,
     "metadata": {},
     "output_type": "execute_result"
    }
   ],
   "source": [
    "def voting_rank(df,col):\n",
    "    n_tot = len(df)\n",
    "    prob=df.groupby([\"Class_Name\"]).agg(n=(col,vote_no),y=(col,vote_yes),dont_know=(col,vote_dont_know)).reset_index()\n",
    "\n",
    "    pdn=prob.iloc[0,1]/n_tot\n",
    "    pdy=prob.iloc[0,2]/n_tot\n",
    "    pdboh=prob.iloc[0,3]/n_tot\n",
    "    prn=prob.iloc[1,1]/n_tot\n",
    "    pry=prob.iloc[1,2]/n_tot\n",
    "    prboh=prob.iloc[1,3]/n_tot\n",
    "    pd=prob.iloc[0,1:].sum()/n_tot\n",
    "    pr=prob.iloc[1,1:].sum()/n_tot\n",
    "    pn=prob.iloc[:,1].sum()/n_tot\n",
    "    py=prob.iloc[:,2].sum()/n_tot\n",
    "    pboh=prob.iloc[:,3].sum()/n_tot\n",
    "    res= pdn * np.log(pdn/((pd)*(pn)))+prn * np.log(prn/((pr)*(pn)))+\\\n",
    "    pdy * np.log(pdy/((pd)*(py)))+pry * np.log(pry/((pr)*(py)))+\\\n",
    "    pdboh * np.log(pdboh/((pd)*(pboh)))+prboh * np.log(prboh/((pr)*(pboh)))\n",
    "    return res\n",
    "\n",
    "res=list()\n",
    "var=list()\n",
    "for i in voting_cols_name[1:]:\n",
    "    var.append(i)\n",
    "    res.append(voting_rank(voting_df,i))\n",
    "\n",
    "dataset = pd.DataFrame({'Variable': var, 'Mutual_information': res})\n",
    "dataset = dataset.sort_values(by=\"Mutual_information\",ascending=False)\n",
    "dataset = dataset.reset_index(drop=True)\n",
    "dataset"
   ]
  },
  {
   "cell_type": "markdown",
   "id": "a6171a75",
   "metadata": {},
   "source": [
    "# 3) PCA\n",
    "Program a PCA and use it to analyze the dataset for radar returns from the ionosphere."
   ]
  },
  {
   "cell_type": "code",
   "execution_count": 42,
   "id": "70d8e586",
   "metadata": {},
   "outputs": [],
   "source": [
    "def My_cov(X):\n",
    "    # Calculate the covariance matrix\n",
    "    N, M =np.shape(X) \n",
    "    cov = np.zeros((M, M))\n",
    "    for i in range(M):\n",
    "        mean_i = np.sum(X[:, i]) / N\n",
    "        for j in range(M):\n",
    "            mean_j = np.sum(X[:, j]) / N\n",
    "            cov[i, j] = np.sum((X[:, i] - mean_i) * (X[:, j] - mean_j)) / (N - 1)\n",
    "    return cov       \n",
    "\n",
    "\n",
    "def My_PCA(X , num_components):\n",
    "    X=X.values\n",
    "    X_meaned = X - np.mean(X , axis = 0)\n",
    "    np_cov = np.cov(X_meaned , rowvar = False)\n",
    "    cov_mat = My_cov(X_meaned )\n",
    "    \n",
    "    assert abs(cov_mat - np_cov).all() < 1e-8\n",
    "    assert np.shape(cov_mat) == np.shape(np_cov)\n",
    "    #np_cov_diff = np.sum(np.abs(cov_mat - np_cov))\n",
    "    #print('Difference from numpy cov. mat.: {:.12f}'.format(np_cov_diff))\n",
    "    #eigen_values , eigen_vectors = np.linalg.eig(cov_mat)\n",
    "    eigen_values , eigen_vectors = np.linalg.eig(cov_mat)\n",
    "    sorted_index = np.argsort(eigen_values)[::-1]\n",
    "    sorted_eigenvalue = eigen_values[sorted_index]\n",
    "    plt.plot(sorted_eigenvalue)\n",
    "    print(sorted_eigenvalue)\n",
    "    plt.title(\"sorted_eigenvalues\")\n",
    "    sorted_eigenvectors = eigen_vectors[:,sorted_index]\n",
    "    eigenvector_subset = sorted_eigenvectors[:,0:num_components]\n",
    "    X_reduced = np.dot(eigenvector_subset.transpose() , X_meaned.transpose() ).transpose()\n",
    "    return X_reduced"
   ]
  },
  {
   "cell_type": "code",
   "execution_count": 43,
   "id": "c303680b",
   "metadata": {},
   "outputs": [],
   "source": [
    "ionosphere_file=\"data/ionosphere.data\"\n",
    "ionosphere_cols = [\"0\",\"1\",\"2\",\"3\",\"4\",\"5\",\"6\",\"7\",\"8\",\"9\",\\\n",
    "        \"10\",\"11\",\"12\", \"13\", \"14\",\"15\", \"16\",\"17\",\"18\",\"19\",\\\n",
    "        \"20\",\"21\",\"22\",\"23\",\"24\",\"25\",\"26\",\"27\",\"28\",\"29\",\"30\",\"31\",\"32\",\"33\",\"34\"]\n",
    "ionosphere_df = pd.read_csv(ionosphere_file, names=ionosphere_cols)# NULL values"
   ]
  },
  {
   "cell_type": "code",
   "execution_count": 56,
   "id": "16ed285c",
   "metadata": {},
   "outputs": [],
   "source": [
    "#prepare the data\n",
    "ionosphere_x = ionosphere_df.iloc[:,0:34]\n"
   ]
  },
  {
   "cell_type": "code",
   "execution_count": 57,
   "id": "51202455",
   "metadata": {},
   "outputs": [
    {
     "name": "stdout",
     "output_type": "stream",
     "text": [
      "[2.90436153 1.13708673 0.69266341 0.64279583 0.45167303 0.34064532\n",
      " 0.27816012 0.26632153 0.25042157 0.20886699 0.19117632 0.17037042\n",
      " 0.16147008 0.15246957 0.13388771 0.12946504 0.1188362  0.10980726\n",
      " 0.10494425 0.10096348 0.09342543 0.0880885  0.07225005 0.06699981\n",
      " 0.06454805 0.05760683 0.05340651 0.04815018 0.04506265 0.03978231\n",
      " 0.0377422  0.03121104 0.02134866 0.        ]\n"
     ]
    },
    {
     "data": {
      "text/html": [
       "<div>\n",
       "<style scoped>\n",
       "    .dataframe tbody tr th:only-of-type {\n",
       "        vertical-align: middle;\n",
       "    }\n",
       "\n",
       "    .dataframe tbody tr th {\n",
       "        vertical-align: top;\n",
       "    }\n",
       "\n",
       "    .dataframe thead th {\n",
       "        text-align: right;\n",
       "    }\n",
       "</style>\n",
       "<table border=\"1\" class=\"dataframe\">\n",
       "  <thead>\n",
       "    <tr style=\"text-align: right;\">\n",
       "      <th></th>\n",
       "      <th>PC1</th>\n",
       "      <th>PC2</th>\n",
       "      <th>Target</th>\n",
       "    </tr>\n",
       "  </thead>\n",
       "  <tbody>\n",
       "    <tr>\n",
       "      <th>0</th>\n",
       "      <td>-0.859333</td>\n",
       "      <td>-0.961407</td>\n",
       "      <td>g</td>\n",
       "    </tr>\n",
       "    <tr>\n",
       "      <th>1</th>\n",
       "      <td>0.765524</td>\n",
       "      <td>-1.062714</td>\n",
       "      <td>b</td>\n",
       "    </tr>\n",
       "    <tr>\n",
       "      <th>2</th>\n",
       "      <td>-1.116817</td>\n",
       "      <td>-0.392256</td>\n",
       "      <td>g</td>\n",
       "    </tr>\n",
       "    <tr>\n",
       "      <th>3</th>\n",
       "      <td>0.981679</td>\n",
       "      <td>0.590445</td>\n",
       "      <td>b</td>\n",
       "    </tr>\n",
       "    <tr>\n",
       "      <th>4</th>\n",
       "      <td>0.132848</td>\n",
       "      <td>-0.788272</td>\n",
       "      <td>g</td>\n",
       "    </tr>\n",
       "  </tbody>\n",
       "</table>\n",
       "</div>"
      ],
      "text/plain": [
       "        PC1       PC2 Target\n",
       "0 -0.859333 -0.961407      g\n",
       "1  0.765524 -1.062714      b\n",
       "2 -1.116817 -0.392256      g\n",
       "3  0.981679  0.590445      b\n",
       "4  0.132848 -0.788272      g"
      ]
     },
     "execution_count": 57,
     "metadata": {},
     "output_type": "execute_result"
    },
    {
     "data": {
      "image/png": "[encoded data removed]",
      "text/plain": [
       "<Figure size 432x288 with 1 Axes>"
      ]
     },
     "metadata": {
      "needs_background": "light"
     },
     "output_type": "display_data"
    }
   ],
   "source": [
    "#prepare the target\n",
    "ionosphere_target = ionosphere_df.iloc[:,34]\n",
    "\n",
    "#Applying it to PCA function\n",
    "ionosphere_mat_reduced = My_PCA(ionosphere_x , 2)\n",
    " \n",
    "#Creating a Pandas DataFrame of reduced Dataset\n",
    "ionosphere_principal_df = pd.DataFrame(ionosphere_mat_reduced , columns = ['PC1','PC2'])\n",
    " \n",
    "#Concat it with target variable to create a complete Dataset\n",
    "ionosphere_principal_df = pd.concat([ionosphere_principal_df , pd.DataFrame(ionosphere_target)] , axis = 1)\n",
    "ionosphere_principal_df=ionosphere_principal_df.rename(columns = {'34':'Target'})\n",
    "ionosphere_principal_df.head(5)"
   ]
  },
  {
   "cell_type": "code",
   "execution_count": 58,
   "id": "f6d2599d",
   "metadata": {},
   "outputs": [
    {
     "name": "stdout",
     "output_type": "stream",
     "text": [
      "(array([2.90436153, 1.13708673, 0.69266341, 0.64279583, 0.45167303,\n",
      "       0.34064532, 0.27816012, 0.26632153, 0.25042157, 0.20886699,\n",
      "       0.19117632, 0.17037042, 0.16147008, 0.02134866, 0.15246957,\n",
      "       0.03121104, 0.0377422 , 0.03978231, 0.04506265, 0.04815018,\n",
      "       0.05340651, 0.05760683, 0.06454805, 0.06699981, 0.07225005,\n",
      "       0.13388771, 0.12946504, 0.1188362 , 0.0880885 , 0.09342543,\n",
      "       0.10980726, 0.10096348, 0.10494425, 0.        ]), array([[-0.02325839,  0.00635553, -0.08183259, ..., -0.05125669,\n",
      "        -0.03927536,  0.        ],\n",
      "       [ 0.        ,  0.        ,  0.        , ...,  0.        ,\n",
      "         0.        ,  1.        ],\n",
      "       [-0.10138455,  0.07767383, -0.30494054, ...,  0.3191141 ,\n",
      "         0.07597261,  0.        ],\n",
      "       ...,\n",
      "       [-0.02009187,  0.173524  , -0.13899732, ...,  0.032129  ,\n",
      "         0.05001005,  0.        ],\n",
      "       [-0.20017617, -0.14413142, -0.21658876, ..., -0.18583495,\n",
      "        -0.08591548,  0.        ],\n",
      "       [ 0.01747586,  0.14498102, -0.18385181, ..., -0.00861954,\n",
      "        -0.22249622,  0.        ]]))\n"
     ]
    }
   ],
   "source": [
    "X=ionosphere_x.T\n",
    "c=np.cov(X)\n",
    "print(np.linalg.eig(c))\n"
   ]
  },
  {
   "cell_type": "code",
   "execution_count": 59,
   "id": "f740c52f",
   "metadata": {},
   "outputs": [
    {
     "data": {
      "text/plain": [
       "<AxesSubplot:xlabel='PC1', ylabel='PC2'>"
      ]
     },
     "execution_count": 59,
     "metadata": {},
     "output_type": "execute_result"
    },
    {
     "data": {
      "image/png": "[encoded data removed]",
      "text/plain": [
       "<Figure size 432x432 with 1 Axes>"
      ]
     },
     "metadata": {
      "needs_background": "light"
     },
     "output_type": "display_data"
    }
   ],
   "source": [
    "plt.figure(figsize = (6,6))\n",
    "sb.scatterplot(data = ionosphere_principal_df , x = 'PC1',y = 'PC2' , hue = 'Target' , s = 60 , palette= 'icefire')"
   ]
  },
  {
   "cell_type": "code",
   "execution_count": 60,
   "id": "b3a86831",
   "metadata": {},
   "outputs": [
    {
     "data": {
      "text/html": [
       "<div>\n",
       "<style scoped>\n",
       "    .dataframe tbody tr th:only-of-type {\n",
       "        vertical-align: middle;\n",
       "    }\n",
       "\n",
       "    .dataframe tbody tr th {\n",
       "        vertical-align: top;\n",
       "    }\n",
       "\n",
       "    .dataframe thead th {\n",
       "        text-align: right;\n",
       "    }\n",
       "</style>\n",
       "<table border=\"1\" class=\"dataframe\">\n",
       "  <thead>\n",
       "    <tr style=\"text-align: right;\">\n",
       "      <th></th>\n",
       "      <th>PC1</th>\n",
       "      <th>PC2</th>\n",
       "      <th>Target</th>\n",
       "    </tr>\n",
       "  </thead>\n",
       "  <tbody>\n",
       "    <tr>\n",
       "      <th>0</th>\n",
       "      <td>-0.859333</td>\n",
       "      <td>-0.961407</td>\n",
       "      <td>g</td>\n",
       "    </tr>\n",
       "    <tr>\n",
       "      <th>1</th>\n",
       "      <td>0.765524</td>\n",
       "      <td>-1.062714</td>\n",
       "      <td>b</td>\n",
       "    </tr>\n",
       "    <tr>\n",
       "      <th>2</th>\n",
       "      <td>-1.116817</td>\n",
       "      <td>-0.392256</td>\n",
       "      <td>g</td>\n",
       "    </tr>\n",
       "    <tr>\n",
       "      <th>3</th>\n",
       "      <td>0.981679</td>\n",
       "      <td>0.590445</td>\n",
       "      <td>b</td>\n",
       "    </tr>\n",
       "    <tr>\n",
       "      <th>4</th>\n",
       "      <td>0.132848</td>\n",
       "      <td>-0.788272</td>\n",
       "      <td>g</td>\n",
       "    </tr>\n",
       "  </tbody>\n",
       "</table>\n",
       "</div>"
      ],
      "text/plain": [
       "        PC1       PC2 Target\n",
       "0 -0.859333 -0.961407      g\n",
       "1  0.765524 -1.062714      b\n",
       "2 -1.116817 -0.392256      g\n",
       "3  0.981679  0.590445      b\n",
       "4  0.132848 -0.788272      g"
      ]
     },
     "execution_count": 60,
     "metadata": {},
     "output_type": "execute_result"
    }
   ],
   "source": [
    "from sklearn.decomposition import PCA\n",
    "pca = PCA(n_components=2)\n",
    "pca.fit(ionosphere_x)\n",
    "ionosphere_mat_reduced_sklearn=pca.transform(ionosphere_x)\n",
    "ionosphere_principal_df_sklearn = pd.DataFrame(ionosphere_mat_reduced_sklearn , columns = ['PC1','PC2'])\n",
    "ionosphere_principal_df_sklearn = pd.concat([ionosphere_principal_df_sklearn , pd.DataFrame(ionosphere_target)] , axis = 1)\n",
    "ionosphere_principal_df_sklearn=ionosphere_principal_df_sklearn.rename(columns = {'34':'Target'})\n",
    "ionosphere_principal_df_sklearn.head(5)\n"
   ]
  },
  {
   "cell_type": "code",
   "execution_count": 61,
   "id": "97208528",
   "metadata": {},
   "outputs": [
    {
     "data": {
      "text/plain": [
       "<AxesSubplot:xlabel='PC1', ylabel='PC2'>"
      ]
     },
     "execution_count": 61,
     "metadata": {},
     "output_type": "execute_result"
    },
    {
     "data": {
      "image/png": "[encoded data removed]",
      "text/plain": [
       "<Figure size 432x432 with 1 Axes>"
      ]
     },
     "metadata": {
      "needs_background": "light"
     },
     "output_type": "display_data"
    }
   ],
   "source": [
    "plt.figure(figsize = (6,6))\n",
    "sb.scatterplot(data = ionosphere_principal_df_sklearn , x = 'PC1',y = 'PC2' , hue = 'Target' , s = 60 , palette= 'icefire')\n",
    "\n"
   ]
  },
  {
   "cell_type": "markdown",
   "id": "59af71a1",
   "metadata": {},
   "source": [
    "## 4) DISTANCES AND SIMILARITIES\n"
   ]
  },
  {
   "cell_type": "markdown",
   "id": "b3d2ac4a",
   "metadata": {},
   "source": [
    "## Program and compute the Mahalanobis distance for the leaf dataset using the coordinates selected in Point 1."
   ]
  },
  {
   "cell_type": "code",
   "execution_count": 72,
   "id": "7d2ee106",
   "metadata": {},
   "outputs": [
    {
     "data": {
      "text/html": [
       "<div>\n",
       "<style scoped>\n",
       "    .dataframe tbody tr th:only-of-type {\n",
       "        vertical-align: middle;\n",
       "    }\n",
       "\n",
       "    .dataframe tbody tr th {\n",
       "        vertical-align: top;\n",
       "    }\n",
       "\n",
       "    .dataframe thead th {\n",
       "        text-align: right;\n",
       "    }\n",
       "</style>\n",
       "<table border=\"1\" class=\"dataframe\">\n",
       "  <thead>\n",
       "    <tr style=\"text-align: right;\">\n",
       "      <th></th>\n",
       "      <th>Distance</th>\n",
       "    </tr>\n",
       "  </thead>\n",
       "  <tbody>\n",
       "    <tr>\n",
       "      <th>0</th>\n",
       "      <td>8.478856</td>\n",
       "    </tr>\n",
       "    <tr>\n",
       "      <th>1</th>\n",
       "      <td>5.667951</td>\n",
       "    </tr>\n",
       "    <tr>\n",
       "      <th>2</th>\n",
       "      <td>7.553296</td>\n",
       "    </tr>\n",
       "    <tr>\n",
       "      <th>3</th>\n",
       "      <td>5.401655</td>\n",
       "    </tr>\n",
       "    <tr>\n",
       "      <th>4</th>\n",
       "      <td>9.107901</td>\n",
       "    </tr>\n",
       "  </tbody>\n",
       "</table>\n",
       "</div>"
      ],
      "text/plain": [
       "   Distance\n",
       "0  8.478856\n",
       "1  5.667951\n",
       "2  7.553296\n",
       "3  5.401655\n",
       "4  9.107901"
      ]
     },
     "execution_count": 72,
     "metadata": {},
     "output_type": "execute_result"
    }
   ],
   "source": [
    "def My_cov(X):\n",
    "    # Calculate the covariance matrix\n",
    "    N, M =np.shape(X) \n",
    "    cov = np.zeros((M, M))\n",
    "    for i in range(M):\n",
    "        mean_i = np.sum(X[:, i]) / N\n",
    "        for j in range(M):\n",
    "            mean_j = np.sum(X[:, j]) / N\n",
    "            cov[i, j] = np.sum((X[:, i] - mean_i) * (X[:, j] - mean_j)) / (N - 1)\n",
    "    return cov       \n",
    "\n",
    "\n",
    "\n",
    "def calculateMahalanobis(y, data):\n",
    "    y_mu = y - np.mean(data,axis=0)\n",
    "    #cov_np= np.cov(data.T)\n",
    "    cov_mat = My_cov(data)\n",
    "    inv_covmat = np.linalg.inv(cov_mat)\n",
    "    left = np.dot(y_mu, inv_covmat)\n",
    "    mahal = np.dot(left, y_mu.T)\n",
    "    return mahal\n",
    "\n",
    "\n",
    "leaf_cols = [\"0\",\"1\",\"2\",\"3\",\"4\",\"5\",\"6\",\"7\",\"8\",\"9\",\\\n",
    "        \"10\",\"11\",\"12\", \"13\", \"14\",\"15\"]\n",
    "leaf_df = pd.read_csv(leaf_file, names=leaf_cols) \n",
    "\n",
    "# Removing target column\n",
    "leaf_df_rm = leaf_df.iloc[: , 1:]\n",
    "\n",
    "# Matrix distance\n",
    "leaf_dist_rm = calculateMahalanobis(leaf_df_rm .values,leaf_df_rm [leaf_cols[1:]].values)\n",
    "\n",
    "# Diagonal elements of the matrix distance distance\n",
    "leaf_dist_rm\n",
    "\n",
    "pd.DataFrame(leaf_dist_rm.diagonal(), columns=[\"Distance\"]).head(5)"
   ]
  },
  {
   "cell_type": "code",
   "execution_count": 63,
   "id": "db4a6b3a",
   "metadata": {},
   "outputs": [
    {
     "data": {
      "text/html": [
       "<div>\n",
       "<style scoped>\n",
       "    .dataframe tbody tr th:only-of-type {\n",
       "        vertical-align: middle;\n",
       "    }\n",
       "\n",
       "    .dataframe tbody tr th {\n",
       "        vertical-align: top;\n",
       "    }\n",
       "\n",
       "    .dataframe thead th {\n",
       "        text-align: right;\n",
       "    }\n",
       "</style>\n",
       "<table border=\"1\" class=\"dataframe\">\n",
       "  <thead>\n",
       "    <tr style=\"text-align: right;\">\n",
       "      <th></th>\n",
       "      <th>Distance</th>\n",
       "    </tr>\n",
       "  </thead>\n",
       "  <tbody>\n",
       "    <tr>\n",
       "      <th>0</th>\n",
       "      <td>11.595107</td>\n",
       "    </tr>\n",
       "    <tr>\n",
       "      <th>1</th>\n",
       "      <td>8.650659</td>\n",
       "    </tr>\n",
       "    <tr>\n",
       "      <th>2</th>\n",
       "      <td>10.325920</td>\n",
       "    </tr>\n",
       "    <tr>\n",
       "      <th>3</th>\n",
       "      <td>7.859208</td>\n",
       "    </tr>\n",
       "    <tr>\n",
       "      <th>4</th>\n",
       "      <td>11.673683</td>\n",
       "    </tr>\n",
       "  </tbody>\n",
       "</table>\n",
       "</div>"
      ],
      "text/plain": [
       "    Distance\n",
       "0  11.595107\n",
       "1   8.650659\n",
       "2  10.325920\n",
       "3   7.859208\n",
       "4  11.673683"
      ]
     },
     "execution_count": 63,
     "metadata": {},
     "output_type": "execute_result"
    }
   ],
   "source": [
    "# Same as before but keeping also the target \n",
    "leaf_dist_full = calculateMahalanobis(leaf_df.values,leaf_df.values)\n",
    "pd.DataFrame(leaf_dist_full.diagonal(), columns=[\"Distance\"]).head(5)"
   ]
  },
  {
   "cell_type": "markdown",
   "id": "e579dd2b",
   "metadata": {},
   "source": [
    "## Program and compute the Euclidean distance in the PCA space between the entries in the ionosphere data set."
   ]
  },
  {
   "cell_type": "code",
   "execution_count": 73,
   "id": "fedffc40",
   "metadata": {},
   "outputs": [],
   "source": [
    "def euclidean(X):\n",
    "    N,M=np.shape(X)\n",
    "    d=np.empty((N,N))\n",
    "    for i in range(N):\n",
    "        for j in range(N):\n",
    "            d[i,j]=np.linalg.norm(X[i]-X[j])\n",
    "    return d"
   ]
  },
  {
   "cell_type": "code",
   "execution_count": 74,
   "id": "774160c6",
   "metadata": {},
   "outputs": [
    {
     "name": "stdout",
     "output_type": "stream",
     "text": [
      "[[0. 0. 0. ... 0. 0. 0.]\n",
      " [0. 0. 0. ... 0. 0. 0.]\n",
      " [0. 0. 0. ... 0. 0. 0.]\n",
      " ...\n",
      " [0. 0. 0. ... 0. 0. 0.]\n",
      " [0. 0. 0. ... 0. 0. 0.]\n",
      " [0. 0. 0. ... 0. 0. 0.]]\n"
     ]
    },
    {
     "data": {
      "text/plain": [
       "array([[0.        , 1.62801239, 0.62468466, ..., 1.50371759, 1.23819411,\n",
       "        1.03645186],\n",
       "       [1.62801239, 0.        , 1.99818035, ..., 2.97424438, 2.76370009,\n",
       "        2.47426211],\n",
       "       [0.62468466, 1.99818035, 0.        , ..., 0.97807857, 0.77338459,\n",
       "        0.47802575],\n",
       "       ...,\n",
       "       [1.50371759, 2.97424438, 0.97807857, ..., 0.        , 0.2959465 ,\n",
       "        0.50028067],\n",
       "       [1.23819411, 2.76370009, 0.77338459, ..., 0.2959465 , 0.        ,\n",
       "        0.33722534],\n",
       "       [1.03645186, 2.47426211, 0.47802575, ..., 0.50028067, 0.33722534,\n",
       "        0.        ]])"
      ]
     },
     "execution_count": 74,
     "metadata": {},
     "output_type": "execute_result"
    }
   ],
   "source": [
    "# Distance dropping Target column \n",
    "ionosphere_principal_df2 = ionosphere_principal_df.drop(columns=[\"Target\"])\n",
    "d1=euclidean(ionosphere_principal_df2.values)\n",
    "d2=cdist(ionosphere_principal_df2, ionosphere_principal_df2, 'euclid')\n",
    "# Check with scipy.spatial.distance\n",
    "print(d1-d2)\n",
    "d1"
   ]
  },
  {
   "cell_type": "markdown",
   "id": "87ec9833",
   "metadata": {},
   "source": [
    "## Program and compute the Hamming distance for the Voting records dataset"
   ]
  },
  {
   "cell_type": "code",
   "execution_count": 66,
   "id": "a5654ade",
   "metadata": {},
   "outputs": [],
   "source": [
    "def hamming_distance(string1, string2): \n",
    "    # Start with a distance of zero, and count up\n",
    "    distance = 0\n",
    "    L = len(string1)\n",
    "    # Loop over the indices of the string\n",
    "    for i in range(L):\n",
    "        # Add 1 to the distance if these two characters are not equal\n",
    "        if string1[i] != string2[i]:\n",
    "            distance += 1\n",
    "    # Return the final count of differences\n",
    "    return distance"
   ]
  },
  {
   "cell_type": "code",
   "execution_count": 67,
   "id": "69bc4188",
   "metadata": {},
   "outputs": [
    {
     "name": "stdout",
     "output_type": "stream",
     "text": [
      "[[0. 0. 0. ... 0. 0. 0.]\n",
      " [0. 0. 0. ... 0. 0. 0.]\n",
      " [0. 0. 0. ... 0. 0. 0.]\n",
      " ...\n",
      " [0. 0. 0. ... 0. 0. 0.]\n",
      " [0. 0. 0. ... 0. 0. 0.]\n",
      " [0. 0. 0. ... 0. 0. 0.]]\n"
     ]
    },
    {
     "data": {
      "text/plain": [
       "array([[ 0.,  3.,  7., ...,  3.,  6.,  3.],\n",
       "       [ 3.,  0.,  6., ...,  3.,  6.,  3.],\n",
       "       [ 7.,  6.,  0., ...,  6., 11.,  7.],\n",
       "       ...,\n",
       "       [ 3.,  3.,  6., ...,  0.,  6.,  5.],\n",
       "       [ 6.,  6., 11., ...,  6.,  0.,  7.],\n",
       "       [ 3.,  3.,  7., ...,  5.,  7.,  0.]])"
      ]
     },
     "execution_count": 67,
     "metadata": {},
     "output_type": "execute_result"
    }
   ],
   "source": [
    "filename=\"data/house-votes-84.data\"\n",
    "cols = [\"0\",\"1\",\"2\",\"3\",\"4\",\"5\",\"6\",\"7\",\"8\",\"9\",\"10\",\"11\",\"12\", \"13\", \"14\",\"15\", \"16\"]\n",
    "df = pd.read_csv(filename, names=cols) \n",
    "\n",
    "# Distance dropping target variables\n",
    "df_rm = df.drop(columns=[\"0\"])\n",
    "\n",
    "df_rm_v = df_rm.values\n",
    "n,m=np.shape(df)\n",
    "dist_rm1=np.empty((n,n))\n",
    "dist_rm2=np.empty((n,n))\n",
    "for i in range(n):\n",
    "    for j in range(n):\n",
    "        dist_rm1[i,j] = hamming(df_rm_v[i],df_rm_v[j])*len(df_rm_v[i])\n",
    "        dist_rm2[i,j] = hamming_distance(df_rm_v[i],df_rm_v[j])\n",
    "\n",
    "\n",
    "print(dist_rm1-dist_rm2)\n",
    "dist_rm1"
   ]
  },
  {
   "cell_type": "code",
   "execution_count": 68,
   "id": "3e118865",
   "metadata": {},
   "outputs": [
    {
     "name": "stdout",
     "output_type": "stream",
     "text": [
      "[[0. 0. 0. ... 0. 0. 0.]\n",
      " [0. 0. 0. ... 0. 0. 0.]\n",
      " [0. 0. 0. ... 0. 0. 0.]\n",
      " ...\n",
      " [0. 0. 0. ... 0. 0. 0.]\n",
      " [0. 0. 0. ... 0. 0. 0.]\n",
      " [0. 0. 0. ... 0. 0. 0.]]\n"
     ]
    },
    {
     "data": {
      "text/plain": [
       "array([[ 0.,  3.,  8., ...,  3.,  6.,  3.],\n",
       "       [ 3.,  0.,  7., ...,  3.,  6.,  3.],\n",
       "       [ 8.,  7.,  0., ...,  7., 12.,  8.],\n",
       "       ...,\n",
       "       [ 3.,  3.,  7., ...,  0.,  6.,  5.],\n",
       "       [ 6.,  6., 12., ...,  6.,  0.,  7.],\n",
       "       [ 3.,  3.,  8., ...,  5.,  7.,  0.]])"
      ]
     },
     "execution_count": 68,
     "metadata": {},
     "output_type": "execute_result"
    }
   ],
   "source": [
    "# Distance keeping target variables\n",
    "\n",
    "df_v = df.values\n",
    "n,m=np.shape(df_v)\n",
    "dist_1=np.empty((n,n))\n",
    "dist_2=np.empty((n,n))\n",
    "for i in range(n):\n",
    "    for j in range(n):\n",
    "        dist_1[i,j] = hamming(df_v[i],df_v[j])*len(df_v[i])\n",
    "        dist_2[i,j] = hamming_distance(df_v[i],df_v[j])\n",
    "\n",
    "\n",
    "print(dist_1-dist_2)\n",
    "dist_1"
   ]
  },
  {
   "cell_type": "code",
   "execution_count": null,
   "id": "5abcf815",
   "metadata": {},
   "outputs": [],
   "source": []
  },
  {
   "cell_type": "code",
   "execution_count": null,
   "id": "8ec04838",
   "metadata": {},
   "outputs": [],
   "source": []
  },
  {
   "cell_type": "code",
   "execution_count": null,
   "id": "019f4d0b",
   "metadata": {},
   "outputs": [],
   "source": []
  }
 ],
 "metadata": {
  "kernelspec": {
   "display_name": "Python 3 (ipykernel)",
   "language": "python",
   "name": "python3"
  },
  "language_info": {
   "codemirror_mode": {
    "name": "ipython",
    "version": 3
   },
   "file_extension": ".py",
   "mimetype": "text/x-python",
   "name": "python",
   "nbconvert_exporter": "python",
   "pygments_lexer": "ipython3",
   "version": "3.8.13"
  }
 },
 "nbformat": 4,
 "nbformat_minor": 5
}
